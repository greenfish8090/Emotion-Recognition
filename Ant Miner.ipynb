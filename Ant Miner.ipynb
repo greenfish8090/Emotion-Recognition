{
 "cells": [
  {
   "cell_type": "markdown",
   "id": "8f3c9b2f",
   "metadata": {},
   "source": [
    "# An implementation of the Ant miner paper for Emotion Recognition"
   ]
  },
  {
   "cell_type": "code",
   "execution_count": 1,
   "id": "87691e73",
   "metadata": {},
   "outputs": [],
   "source": [
    "import numpy as np\n",
    "import pandas as pd\n",
    "import matplotlib.pyplot as plt\n",
    "import itertools\n",
    "from matplotlib.figure import Figure\n",
    "from matplotlib.backends.backend_tkagg import (FigureCanvasTkAgg, \n",
    "NavigationToolbar2Tk)\n",
    "import copy\n",
    "from tkinter import *\n",
    "from tkinter import ttk\n",
    "from pandastable import Table"
   ]
  },
  {
   "cell_type": "code",
   "execution_count": 2,
   "id": "22c2f993",
   "metadata": {
    "scrolled": false
   },
   "outputs": [
    {
     "data": {
      "text/html": [
       "<div>\n",
       "<style scoped>\n",
       "    .dataframe tbody tr th:only-of-type {\n",
       "        vertical-align: middle;\n",
       "    }\n",
       "\n",
       "    .dataframe tbody tr th {\n",
       "        vertical-align: top;\n",
       "    }\n",
       "\n",
       "    .dataframe thead th {\n",
       "        text-align: right;\n",
       "    }\n",
       "</style>\n",
       "<table border=\"1\" class=\"dataframe\">\n",
       "  <thead>\n",
       "    <tr style=\"text-align: right;\">\n",
       "      <th></th>\n",
       "      <th>f0</th>\n",
       "      <th>f1</th>\n",
       "      <th>f2</th>\n",
       "      <th>f3</th>\n",
       "      <th>f4</th>\n",
       "      <th>f5</th>\n",
       "      <th>f6</th>\n",
       "      <th>f7</th>\n",
       "      <th>f8</th>\n",
       "      <th>f9</th>\n",
       "      <th>...</th>\n",
       "      <th>f643</th>\n",
       "      <th>f644</th>\n",
       "      <th>f645</th>\n",
       "      <th>f646</th>\n",
       "      <th>f647</th>\n",
       "      <th>f648</th>\n",
       "      <th>f649</th>\n",
       "      <th>f650</th>\n",
       "      <th>f651</th>\n",
       "      <th>class</th>\n",
       "    </tr>\n",
       "  </thead>\n",
       "  <tbody>\n",
       "    <tr>\n",
       "      <th>0</th>\n",
       "      <td>-675.852</td>\n",
       "      <td>-820.630</td>\n",
       "      <td>-372.474</td>\n",
       "      <td>156.448</td>\n",
       "      <td>0.455</td>\n",
       "      <td>-1.471</td>\n",
       "      <td>68.959</td>\n",
       "      <td>-15.910</td>\n",
       "      <td>217.757</td>\n",
       "      <td>72.966</td>\n",
       "      <td>...</td>\n",
       "      <td>15.036</td>\n",
       "      <td>-3.957</td>\n",
       "      <td>32.880</td>\n",
       "      <td>0.023</td>\n",
       "      <td>-110.137</td>\n",
       "      <td>112.829</td>\n",
       "      <td>20.504</td>\n",
       "      <td>-0.442</td>\n",
       "      <td>17.036</td>\n",
       "      <td>neutral</td>\n",
       "    </tr>\n",
       "    <tr>\n",
       "      <th>1</th>\n",
       "      <td>-640.294</td>\n",
       "      <td>-783.178</td>\n",
       "      <td>-358.277</td>\n",
       "      <td>154.661</td>\n",
       "      <td>0.411</td>\n",
       "      <td>-1.555</td>\n",
       "      <td>64.627</td>\n",
       "      <td>-47.438</td>\n",
       "      <td>218.073</td>\n",
       "      <td>76.974</td>\n",
       "      <td>...</td>\n",
       "      <td>12.265</td>\n",
       "      <td>-4.655</td>\n",
       "      <td>30.513</td>\n",
       "      <td>-0.725</td>\n",
       "      <td>-82.309</td>\n",
       "      <td>67.398</td>\n",
       "      <td>13.982</td>\n",
       "      <td>-1.941</td>\n",
       "      <td>19.824</td>\n",
       "      <td>neutral</td>\n",
       "    </tr>\n",
       "    <tr>\n",
       "      <th>2</th>\n",
       "      <td>-677.497</td>\n",
       "      <td>-825.274</td>\n",
       "      <td>-375.799</td>\n",
       "      <td>157.171</td>\n",
       "      <td>0.415</td>\n",
       "      <td>-1.537</td>\n",
       "      <td>66.738</td>\n",
       "      <td>-79.028</td>\n",
       "      <td>208.915</td>\n",
       "      <td>73.381</td>\n",
       "      <td>...</td>\n",
       "      <td>22.398</td>\n",
       "      <td>-2.424</td>\n",
       "      <td>37.887</td>\n",
       "      <td>-0.037</td>\n",
       "      <td>-169.023</td>\n",
       "      <td>170.742</td>\n",
       "      <td>30.984</td>\n",
       "      <td>0.124</td>\n",
       "      <td>18.527</td>\n",
       "      <td>neutral</td>\n",
       "    </tr>\n",
       "    <tr>\n",
       "      <th>3</th>\n",
       "      <td>-659.499</td>\n",
       "      <td>-809.578</td>\n",
       "      <td>-356.445</td>\n",
       "      <td>164.199</td>\n",
       "      <td>0.455</td>\n",
       "      <td>-1.502</td>\n",
       "      <td>61.317</td>\n",
       "      <td>-70.403</td>\n",
       "      <td>214.674</td>\n",
       "      <td>75.767</td>\n",
       "      <td>...</td>\n",
       "      <td>10.528</td>\n",
       "      <td>1.095</td>\n",
       "      <td>18.721</td>\n",
       "      <td>-0.004</td>\n",
       "      <td>-59.714</td>\n",
       "      <td>50.999</td>\n",
       "      <td>13.634</td>\n",
       "      <td>-0.887</td>\n",
       "      <td>10.296</td>\n",
       "      <td>neutral</td>\n",
       "    </tr>\n",
       "    <tr>\n",
       "      <th>4</th>\n",
       "      <td>-698.072</td>\n",
       "      <td>-857.808</td>\n",
       "      <td>-409.923</td>\n",
       "      <td>156.816</td>\n",
       "      <td>0.281</td>\n",
       "      <td>-1.594</td>\n",
       "      <td>70.695</td>\n",
       "      <td>-55.799</td>\n",
       "      <td>221.357</td>\n",
       "      <td>70.646</td>\n",
       "      <td>...</td>\n",
       "      <td>24.944</td>\n",
       "      <td>-2.291</td>\n",
       "      <td>42.875</td>\n",
       "      <td>0.022</td>\n",
       "      <td>-253.151</td>\n",
       "      <td>210.330</td>\n",
       "      <td>35.594</td>\n",
       "      <td>-0.635</td>\n",
       "      <td>28.814</td>\n",
       "      <td>calm</td>\n",
       "    </tr>\n",
       "    <tr>\n",
       "      <th>...</th>\n",
       "      <td>...</td>\n",
       "      <td>...</td>\n",
       "      <td>...</td>\n",
       "      <td>...</td>\n",
       "      <td>...</td>\n",
       "      <td>...</td>\n",
       "      <td>...</td>\n",
       "      <td>...</td>\n",
       "      <td>...</td>\n",
       "      <td>...</td>\n",
       "      <td>...</td>\n",
       "      <td>...</td>\n",
       "      <td>...</td>\n",
       "      <td>...</td>\n",
       "      <td>...</td>\n",
       "      <td>...</td>\n",
       "      <td>...</td>\n",
       "      <td>...</td>\n",
       "      <td>...</td>\n",
       "      <td>...</td>\n",
       "      <td>...</td>\n",
       "    </tr>\n",
       "    <tr>\n",
       "      <th>1435</th>\n",
       "      <td>-528.333</td>\n",
       "      <td>-659.763</td>\n",
       "      <td>-241.697</td>\n",
       "      <td>164.582</td>\n",
       "      <td>0.572</td>\n",
       "      <td>-1.545</td>\n",
       "      <td>49.885</td>\n",
       "      <td>-36.404</td>\n",
       "      <td>205.386</td>\n",
       "      <td>69.445</td>\n",
       "      <td>...</td>\n",
       "      <td>14.937</td>\n",
       "      <td>1.440</td>\n",
       "      <td>10.757</td>\n",
       "      <td>-0.162</td>\n",
       "      <td>-69.727</td>\n",
       "      <td>107.401</td>\n",
       "      <td>18.274</td>\n",
       "      <td>1.613</td>\n",
       "      <td>15.420</td>\n",
       "      <td>surprised</td>\n",
       "    </tr>\n",
       "    <tr>\n",
       "      <th>1436</th>\n",
       "      <td>-609.369</td>\n",
       "      <td>-757.083</td>\n",
       "      <td>-307.215</td>\n",
       "      <td>179.786</td>\n",
       "      <td>0.575</td>\n",
       "      <td>-1.516</td>\n",
       "      <td>63.774</td>\n",
       "      <td>-32.482</td>\n",
       "      <td>223.057</td>\n",
       "      <td>77.018</td>\n",
       "      <td>...</td>\n",
       "      <td>10.696</td>\n",
       "      <td>0.127</td>\n",
       "      <td>1.252</td>\n",
       "      <td>-0.151</td>\n",
       "      <td>-39.864</td>\n",
       "      <td>30.325</td>\n",
       "      <td>10.742</td>\n",
       "      <td>-0.514</td>\n",
       "      <td>3.439</td>\n",
       "      <td>surprised</td>\n",
       "    </tr>\n",
       "    <tr>\n",
       "      <th>1437</th>\n",
       "      <td>-550.021</td>\n",
       "      <td>-686.908</td>\n",
       "      <td>-257.205</td>\n",
       "      <td>164.957</td>\n",
       "      <td>0.545</td>\n",
       "      <td>-1.525</td>\n",
       "      <td>57.948</td>\n",
       "      <td>-62.416</td>\n",
       "      <td>214.069</td>\n",
       "      <td>71.946</td>\n",
       "      <td>...</td>\n",
       "      <td>11.213</td>\n",
       "      <td>-0.678</td>\n",
       "      <td>3.609</td>\n",
       "      <td>-0.190</td>\n",
       "      <td>-46.936</td>\n",
       "      <td>48.720</td>\n",
       "      <td>11.619</td>\n",
       "      <td>0.666</td>\n",
       "      <td>5.487</td>\n",
       "      <td>surprised</td>\n",
       "    </tr>\n",
       "    <tr>\n",
       "      <th>1438</th>\n",
       "      <td>-559.621</td>\n",
       "      <td>-688.898</td>\n",
       "      <td>-280.156</td>\n",
       "      <td>160.536</td>\n",
       "      <td>0.578</td>\n",
       "      <td>-1.527</td>\n",
       "      <td>57.994</td>\n",
       "      <td>-17.436</td>\n",
       "      <td>206.204</td>\n",
       "      <td>75.294</td>\n",
       "      <td>...</td>\n",
       "      <td>14.703</td>\n",
       "      <td>-1.261</td>\n",
       "      <td>15.954</td>\n",
       "      <td>-0.240</td>\n",
       "      <td>-87.877</td>\n",
       "      <td>85.553</td>\n",
       "      <td>17.354</td>\n",
       "      <td>0.738</td>\n",
       "      <td>15.653</td>\n",
       "      <td>surprised</td>\n",
       "    </tr>\n",
       "    <tr>\n",
       "      <th>1439</th>\n",
       "      <td>-549.113</td>\n",
       "      <td>-685.362</td>\n",
       "      <td>-225.554</td>\n",
       "      <td>169.478</td>\n",
       "      <td>0.578</td>\n",
       "      <td>-1.520</td>\n",
       "      <td>51.646</td>\n",
       "      <td>-51.242</td>\n",
       "      <td>204.299</td>\n",
       "      <td>70.696</td>\n",
       "      <td>...</td>\n",
       "      <td>13.193</td>\n",
       "      <td>0.455</td>\n",
       "      <td>4.919</td>\n",
       "      <td>-0.086</td>\n",
       "      <td>-49.873</td>\n",
       "      <td>59.752</td>\n",
       "      <td>14.809</td>\n",
       "      <td>0.605</td>\n",
       "      <td>4.978</td>\n",
       "      <td>surprised</td>\n",
       "    </tr>\n",
       "  </tbody>\n",
       "</table>\n",
       "<p>1440 rows × 653 columns</p>\n",
       "</div>"
      ],
      "text/plain": [
       "           f0       f1       f2       f3     f4     f5      f6      f7  \\\n",
       "0    -675.852 -820.630 -372.474  156.448  0.455 -1.471  68.959 -15.910   \n",
       "1    -640.294 -783.178 -358.277  154.661  0.411 -1.555  64.627 -47.438   \n",
       "2    -677.497 -825.274 -375.799  157.171  0.415 -1.537  66.738 -79.028   \n",
       "3    -659.499 -809.578 -356.445  164.199  0.455 -1.502  61.317 -70.403   \n",
       "4    -698.072 -857.808 -409.923  156.816  0.281 -1.594  70.695 -55.799   \n",
       "...       ...      ...      ...      ...    ...    ...     ...     ...   \n",
       "1435 -528.333 -659.763 -241.697  164.582  0.572 -1.545  49.885 -36.404   \n",
       "1436 -609.369 -757.083 -307.215  179.786  0.575 -1.516  63.774 -32.482   \n",
       "1437 -550.021 -686.908 -257.205  164.957  0.545 -1.525  57.948 -62.416   \n",
       "1438 -559.621 -688.898 -280.156  160.536  0.578 -1.527  57.994 -17.436   \n",
       "1439 -549.113 -685.362 -225.554  169.478  0.578 -1.520  51.646 -51.242   \n",
       "\n",
       "           f8      f9  ...    f643   f644    f645   f646     f647     f648  \\\n",
       "0     217.757  72.966  ...  15.036 -3.957  32.880  0.023 -110.137  112.829   \n",
       "1     218.073  76.974  ...  12.265 -4.655  30.513 -0.725  -82.309   67.398   \n",
       "2     208.915  73.381  ...  22.398 -2.424  37.887 -0.037 -169.023  170.742   \n",
       "3     214.674  75.767  ...  10.528  1.095  18.721 -0.004  -59.714   50.999   \n",
       "4     221.357  70.646  ...  24.944 -2.291  42.875  0.022 -253.151  210.330   \n",
       "...       ...     ...  ...     ...    ...     ...    ...      ...      ...   \n",
       "1435  205.386  69.445  ...  14.937  1.440  10.757 -0.162  -69.727  107.401   \n",
       "1436  223.057  77.018  ...  10.696  0.127   1.252 -0.151  -39.864   30.325   \n",
       "1437  214.069  71.946  ...  11.213 -0.678   3.609 -0.190  -46.936   48.720   \n",
       "1438  206.204  75.294  ...  14.703 -1.261  15.954 -0.240  -87.877   85.553   \n",
       "1439  204.299  70.696  ...  13.193  0.455   4.919 -0.086  -49.873   59.752   \n",
       "\n",
       "        f649   f650    f651      class  \n",
       "0     20.504 -0.442  17.036    neutral  \n",
       "1     13.982 -1.941  19.824    neutral  \n",
       "2     30.984  0.124  18.527    neutral  \n",
       "3     13.634 -0.887  10.296    neutral  \n",
       "4     35.594 -0.635  28.814       calm  \n",
       "...      ...    ...     ...        ...  \n",
       "1435  18.274  1.613  15.420  surprised  \n",
       "1436  10.742 -0.514   3.439  surprised  \n",
       "1437  11.619  0.666   5.487  surprised  \n",
       "1438  17.354  0.738  15.653  surprised  \n",
       "1439  14.809  0.605   4.978  surprised  \n",
       "\n",
       "[1440 rows x 653 columns]"
      ]
     },
     "execution_count": 2,
     "metadata": {},
     "output_type": "execute_result"
    }
   ],
   "source": [
    "df = pd.read_csv(\"Resources/Ravdess Dataset.csv\")\n",
    "df"
   ]
  },
  {
   "cell_type": "code",
   "execution_count": 78,
   "id": "783eb5d7",
   "metadata": {},
   "outputs": [],
   "source": [
    "class Window:\n",
    "    def __init__(self,title,geometry):\n",
    "        self.w = Tk()\n",
    "        self.w.title(title)\n",
    "        self.w.option_add('*Font','25')\n",
    "        self.w.geometry(geometry)\n",
    "        self.frame = ttk.Frame(self.w, padding=\"12 12 12 12\")\n",
    "        self.progress = ttk.Frame(self.w, padding=\"12 12 12 12\")\n",
    "        self.dataframe = ttk.Frame(self.w,padding=\"12 12 12 12\")\n",
    "        self.tf  = ttk.Frame(self.w, padding=\"12 12 12 12\")\n",
    "        self.frame.place(relx=0.1,rely=0.2)\n",
    "        self.tf.place(relx=0.3725,rely=0.26146789)\n",
    "        self.dataframe.place(relx=0.8,rely=0.4)\n",
    "        self.progress.place(relx=0.75, rely=0.6)\n",
    "    \n",
    "    def label(self,text):\n",
    "        ttk.Label(self.frame,text=str(text),wraplength=600).pack()\n",
    "    \n",
    "    def exit_button(self,text=\"Next\"):\n",
    "        self.exit = ttk.Button(self.frame,text=text,command=self.w.destroy)\n",
    "        self.exit.pack()\n",
    "        "
   ]
  },
  {
   "cell_type": "code",
   "execution_count": 66,
   "id": "912040d1",
   "metadata": {},
   "outputs": [],
   "source": [
    "win = Window(title=\"Welcome!\",geometry=\"800x100\")\n",
    "\n",
    "win.label(\"Welcome! This is an example of how the output will be displayed in this code.\")\n",
    "win.exit_button()\n",
    "win.w.mainloop()"
   ]
  },
  {
   "cell_type": "code",
   "execution_count": 5,
   "id": "5195bb13",
   "metadata": {},
   "outputs": [],
   "source": [
    "n_candidate_thresholds = 10"
   ]
  },
  {
   "cell_type": "code",
   "execution_count": 6,
   "id": "27aeffde",
   "metadata": {},
   "outputs": [],
   "source": [
    "candidate_thresholds = df.quantile(np.linspace(0, 1, n_candidate_thresholds))\n",
    "\n",
    "win = Window(title=\"candidate_thresholds\",geometry='1000x500')\n",
    "win.label(\"Following is the candidate threshold array:\")\n",
    "\n",
    "ct_table = Table(win.tf,dataframe=candidate_thresholds,showtoolbar=True,showstatusbar=True)\n",
    "ct_table.show()\n",
    "win.exit_button()\n",
    "win.w.mainloop()"
   ]
  },
  {
   "cell_type": "code",
   "execution_count": 7,
   "id": "fb42ec73",
   "metadata": {},
   "outputs": [],
   "source": [
    "emotions = df['class'].unique()\n",
    "#emotions\n",
    "\n",
    "win = Window(title=\"List of Emotions\",geometry=\"800x100\")\n",
    "win.label(\"These are the possible emotions in our dataset:\")\n",
    "win.label(emotions)\n",
    "\n",
    "win.exit_button()\n",
    "win.w.mainloop()"
   ]
  },
  {
   "cell_type": "code",
   "execution_count": 8,
   "id": "9d752a11",
   "metadata": {},
   "outputs": [],
   "source": [
    "cols = df.columns"
   ]
  },
  {
   "cell_type": "code",
   "execution_count": 9,
   "id": "7ceaddc9",
   "metadata": {},
   "outputs": [
    {
     "data": {
      "text/html": [
       "<div>\n",
       "<style scoped>\n",
       "    .dataframe tbody tr th:only-of-type {\n",
       "        vertical-align: middle;\n",
       "    }\n",
       "\n",
       "    .dataframe tbody tr th {\n",
       "        vertical-align: top;\n",
       "    }\n",
       "\n",
       "    .dataframe thead th {\n",
       "        text-align: right;\n",
       "    }\n",
       "</style>\n",
       "<table border=\"1\" class=\"dataframe\">\n",
       "  <thead>\n",
       "    <tr style=\"text-align: right;\">\n",
       "      <th></th>\n",
       "      <th>f0</th>\n",
       "      <th>f1</th>\n",
       "      <th>f2</th>\n",
       "      <th>f3</th>\n",
       "      <th>f4</th>\n",
       "      <th>f5</th>\n",
       "      <th>f6</th>\n",
       "      <th>f7</th>\n",
       "      <th>f8</th>\n",
       "      <th>f9</th>\n",
       "      <th>...</th>\n",
       "      <th>f642</th>\n",
       "      <th>f643</th>\n",
       "      <th>f644</th>\n",
       "      <th>f645</th>\n",
       "      <th>f646</th>\n",
       "      <th>f647</th>\n",
       "      <th>f648</th>\n",
       "      <th>f649</th>\n",
       "      <th>f650</th>\n",
       "      <th>f651</th>\n",
       "    </tr>\n",
       "  </thead>\n",
       "  <tbody>\n",
       "  </tbody>\n",
       "</table>\n",
       "<p>0 rows × 652 columns</p>\n",
       "</div>"
      ],
      "text/plain": [
       "Empty DataFrame\n",
       "Columns: [f0, f1, f2, f3, f4, f5, f6, f7, f8, f9, f10, f11, f12, f13, f14, f15, f16, f17, f18, f19, f20, f21, f22, f23, f24, f25, f26, f27, f28, f29, f30, f31, f32, f33, f34, f35, f36, f37, f38, f39, f40, f41, f42, f43, f44, f45, f46, f47, f48, f49, f50, f51, f52, f53, f54, f55, f56, f57, f58, f59, f60, f61, f62, f63, f64, f65, f66, f67, f68, f69, f70, f71, f72, f73, f74, f75, f76, f77, f78, f79, f80, f81, f82, f83, f84, f85, f86, f87, f88, f89, f90, f91, f92, f93, f94, f95, f96, f97, f98, f99, ...]\n",
       "Index: []\n",
       "\n",
       "[0 rows x 652 columns]"
      ]
     },
     "execution_count": 9,
     "metadata": {},
     "output_type": "execute_result"
    }
   ],
   "source": [
    "GE_df = pd.DataFrame(columns=cols)\n",
    "GE_df = GE_df.drop('class', axis=1)\n",
    "LT_df = GE_df.copy(deep=True)\n",
    "GE_df\n"
   ]
  },
  {
   "cell_type": "code",
   "execution_count": 10,
   "id": "6d14bf04",
   "metadata": {},
   "outputs": [],
   "source": [
    "GE = np.zeros((n_candidate_thresholds, len(cols) - 1, len(emotions)))\n",
    "LT = GE.copy()\n",
    "GE.shape\n",
    "\n",
    "win = Window(title=\"GE and LT\",geometry=\"800x150\")\n",
    "win.label(\"GE and LT are two same-size arrays we will use to measure entropy in our dataset. GE represents greater than and LT represents Lesser Than.\")\n",
    "win.label(GE.shape)\n",
    "\n",
    "win.exit_button()\n",
    "win.w.mainloop()"
   ]
  },
  {
   "cell_type": "code",
   "execution_count": 11,
   "id": "27012ee6",
   "metadata": {},
   "outputs": [],
   "source": [
    "for e, emotion in enumerate(emotions):\n",
    "    for i, (quantile, row) in enumerate(candidate_thresholds.iterrows()):\n",
    "        GE_df.loc[i] = df.loc[df['class'] == emotion].drop('class', axis=1).ge(candidate_thresholds.iloc[i]).sum()\n",
    "        LT_df.loc[i] = df.loc[df['class'] == emotion].drop('class', axis=1).lt(candidate_thresholds.iloc[i]).sum()\n",
    "    GE[:, :, e] = GE_df.to_numpy()\n",
    "    LT[:, :, e] = LT_df.to_numpy()\n",
    "\n",
    "win = Window(title=\"GE and LT assignment\",geometry=\"800x100\")\n",
    "win.label(\"This is a compute intensive step where GE_df and LT_df are assigned values to use later.\")\n",
    "\n",
    "win.exit_button()\n",
    "win.w.mainloop()"
   ]
  },
  {
   "cell_type": "code",
   "execution_count": 12,
   "id": "c6019853",
   "metadata": {},
   "outputs": [],
   "source": [
    "train, test = np.split(df.sample(frac=1), [int(0.75*len(df))])\n",
    "train_len = len(train)\n",
    "test_len = len(test)\n",
    "total_len = train_len + test_len\n",
    "test_len, train_len, total_len\n",
    "\n",
    "win = Window(title=\"Initial training variables\",geometry=\"800x100\")\n",
    "win.label(\"Here we set our test_len, train_len and total_len.\")\n",
    "win.label([test_len, train_len, total_len])\n",
    "\n",
    "win.exit_button()\n",
    "win.w.mainloop()"
   ]
  },
  {
   "cell_type": "markdown",
   "id": "d599cddb",
   "metadata": {},
   "source": [
    "# Entropy values\n",
    "H will be a matrix of size (1 x features). Computed in a vectorized way to save time (This would take like 10 mins if it was in a for loop, now it takes 10s). <br>\n",
    "Ok fine I'm looping through the 8 emotions so techhhhnically it's not fully vectorized. Anyway we're computing H only once so I took lite"
   ]
  },
  {
   "cell_type": "code",
   "execution_count": 13,
   "id": "e9a6bc2c",
   "metadata": {
    "scrolled": true
   },
   "outputs": [],
   "source": [
    "sums_GE = np.sum(GE, axis=2)\n",
    "sums_LT = np.sum(LT, axis=2)\n",
    "#sums_GE"
   ]
  },
  {
   "cell_type": "code",
   "execution_count": 14,
   "id": "fd37cbe4",
   "metadata": {
    "scrolled": true
   },
   "outputs": [],
   "source": [
    "repeated_sums_GE = np.repeat(sums_GE[:, :, np.newaxis], GE.shape[2], axis=2)\n",
    "repeated_sums_LT = np.repeat(sums_LT[:, :, np.newaxis], LT.shape[2], axis=2)\n",
    "#repeated_sums_GE[:, :, 1]"
   ]
  },
  {
   "cell_type": "code",
   "execution_count": 15,
   "id": "b7885e76",
   "metadata": {},
   "outputs": [],
   "source": [
    "P_GE = np.divide(GE, repeated_sums_GE, out=np.zeros_like(GE), where=repeated_sums_GE!=0)\n",
    "P_LT = np.divide(LT, repeated_sums_LT, out=np.zeros_like(LT), where=repeated_sums_LT!=0)\n",
    "#P_GE"
   ]
  },
  {
   "cell_type": "code",
   "execution_count": 16,
   "id": "680ee484",
   "metadata": {},
   "outputs": [],
   "source": [
    "logP_GE = np.log2(P_GE, out=np.zeros_like(P_GE), where=P_GE>0)\n",
    "logP_LT = np.log2(P_LT, out=np.zeros_like(P_LT), where=P_LT>0)\n",
    "#logP_GE"
   ]
  },
  {
   "cell_type": "code",
   "execution_count": 17,
   "id": "a9f9d06d",
   "metadata": {
    "scrolled": true
   },
   "outputs": [],
   "source": [
    "GE = -np.sum(np.multiply(P_GE, logP_GE), axis=2)\n",
    "LT = -np.sum(np.multiply(P_LT, logP_LT), axis=2)\n",
    "\n",
    "win = Window(title=\"Entropy Calcuation\",geometry=\"800x150\")\n",
    "win.label(\"\"\"Now we use GE and LT to calculate entropies for each entry in the dataset.\n",
    "Essentially, GE and LT are recalculated first as P_GE = GE / ( sum(GE) along the 3rd axis). \n",
    "Then the final value is calculated as -1 * sum( P_GE * log2(P_GE) ) along the 3rd axis.\"\"\")\n",
    "\n",
    "win.exit_button()\n",
    "win.w.mainloop()"
   ]
  },
  {
   "cell_type": "code",
   "execution_count": 18,
   "id": "df47614a",
   "metadata": {},
   "outputs": [],
   "source": [
    "epv = sums_LT * LT / (sums_GE + sums_LT) + sums_GE * GE / (sums_GE + sums_LT)\n",
    "epv.shape\n",
    "\n",
    "win = Window(title=\"EPV\",geometry=\"800x150\")\n",
    "win.label(\"Now we calculate epv, which is defined as new LT * sum(LT) + new GE * sum(GE) over sum(GE) + sum(LT). It's shape is given here.\")\n",
    "win.label(epv.shape)\n",
    "\n",
    "win.exit_button()\n",
    "win.w.mainloop()"
   ]
  },
  {
   "cell_type": "code",
   "execution_count": 19,
   "id": "e29d72c1",
   "metadata": {},
   "outputs": [],
   "source": [
    "entropies = np.minimum(\n",
    "                GE[np.argmin(epv, axis=0), np.array(range(len(cols) - 1))],\n",
    "                LT[np.argmin(epv, axis=0), np.array(range(len(cols) - 1))]\n",
    "            )\n",
    "#entropies\n",
    "\n",
    "win = Window(title=\"Entropy calculation\",geometry=\"800x100\")\n",
    "win.label(\"Finally, the entropies array is entered as the element-wise minimum of GE[argmin(epv)] and LT[argmin(epv)].\")\n",
    "\n",
    "win.exit_button()\n",
    "win.w.mainloop()"
   ]
  },
  {
   "cell_type": "code",
   "execution_count": 20,
   "id": "c68e13c8",
   "metadata": {},
   "outputs": [
    {
     "data": {
      "image/png": "[encoded data removed]",
      "text/plain": [
       "<Figure size 500x500 with 2 Axes>"
      ]
     },
     "metadata": {
      "needs_background": "light"
     },
     "output_type": "display_data"
    }
   ],
   "source": [
    "vis = LT[:, :-2]\n",
    "vis = vis.reshape(65,100)\n",
    "#plt.imshow(vis)\n",
    "#plt.colorbar()\n",
    "#plt.show()\n",
    "\n",
    "win = Window(title=\"Colorplot showing entropy values\",geometry=\"800x600\")\n",
    "win.label(\"Following is the colorplot of the array vis, made from LT:\")\n",
    "\n",
    "figure = plt.figure(figsize=(5,5),dpi=100)\n",
    "plot = figure.add_subplot(111)\n",
    "bar = plot.imshow(vis)\n",
    "figure.colorbar(bar)\n",
    "\n",
    "canvas = FigureCanvasTkAgg(figure,win.tf)\n",
    "canvas.get_tk_widget().grid()\n",
    "\n",
    "win.exit_button()\n",
    "win.w.mainloop()\n"
   ]
  },
  {
   "cell_type": "code",
   "execution_count": 21,
   "id": "54108ab3",
   "metadata": {},
   "outputs": [
    {
     "data": {
      "image/png": "[encoded data removed]",
      "text/plain": [
       "<Figure size 500x500 with 2 Axes>"
      ]
     },
     "metadata": {
      "needs_background": "light"
     },
     "output_type": "display_data"
    }
   ],
   "source": [
    "vis = GE[:, :-2]\n",
    "vis = vis.reshape(65,100)\n",
    "#plt.imshow(vis)\n",
    "#plt.colorbar()\n",
    "#plt.show()\n",
    "\n",
    "win = Window(title=\"Colorplot showing entropy values\",geometry=\"800x600\")\n",
    "win.label(\"Following is the colorplot of the array vis, made from GE:\")\n",
    "\n",
    "figure = plt.figure(figsize=(5,5),dpi=100)\n",
    "plot = figure.add_subplot(111)\n",
    "bar = plot.imshow(vis)\n",
    "figure.colorbar(bar)\n",
    "\n",
    "canvas = FigureCanvasTkAgg(figure,win.tf)\n",
    "canvas.get_tk_widget().grid()\n",
    "\n",
    "win.exit_button()\n",
    "win.w.mainloop()"
   ]
  },
  {
   "cell_type": "code",
   "execution_count": 22,
   "id": "448814c2",
   "metadata": {},
   "outputs": [
    {
     "data": {
      "image/png": "[encoded data removed]",
      "text/plain": [
       "<Figure size 300x500 with 2 Axes>"
      ]
     },
     "metadata": {
      "needs_background": "light"
     },
     "output_type": "display_data"
    }
   ],
   "source": [
    "vis = entropies[:-2]\n",
    "vis = vis.reshape(65,10)\n",
    "#plt.imshow(vis)\n",
    "#plt.colorbar()\n",
    "#plt.show()\n",
    "\n",
    "win = Window(title=\"Colorplot showing entropy values\",geometry=\"800x600\")\n",
    "win.label(\"Following is the colorplot of the array vis, made from the entropies array:\")\n",
    "\n",
    "figure = plt.figure(figsize=(3,5),dpi=100)\n",
    "plot = figure.add_subplot(111)\n",
    "bar = plot.imshow(vis)\n",
    "figure.colorbar(bar)\n",
    "\n",
    "canvas = FigureCanvasTkAgg(figure,win.tf)\n",
    "canvas.get_tk_widget().grid()\n",
    "\n",
    "win.exit_button()\n",
    "win.w.mainloop()"
   ]
  },
  {
   "cell_type": "code",
   "execution_count": 23,
   "id": "6d362d5a",
   "metadata": {},
   "outputs": [],
   "source": [
    "%load_ext line_profiler\n",
    "def calc_threshold_and_operator(dataset):\n",
    "    GE_df = pd.DataFrame(columns=[dataset.columns[0]])\n",
    "    LT_df = GE_df.copy(deep=True)\n",
    "    GE = np.zeros((n_candidate_thresholds, 1, len(emotions)))\n",
    "    LT = GE.copy()\n",
    "    cands = candidate_thresholds[dataset.columns[0]]\n",
    "    \n",
    "    for e, emotion in enumerate(emotions):\n",
    "        for i, (quantile, row) in enumerate(candidate_thresholds.iterrows()):\n",
    "            GE_df.loc[i] = dataset.loc[dataset['class'] == emotion].drop('class', axis=1).ge(cands.iloc[i]).sum()\n",
    "            LT_df.loc[i] = dataset.loc[dataset['class'] == emotion].drop('class', axis=1).lt(cands.iloc[i]).sum()\n",
    "        GE[:, :, e] = GE_df.to_numpy()\n",
    "        LT[:, :, e] = LT_df.to_numpy()\n",
    "        \n",
    "    sums_GE = np.sum(GE, axis=2)\n",
    "    sums_LT = np.sum(LT, axis=2)\n",
    "    \n",
    "    repeated_sums_GE = np.repeat(sums_GE[:, :, np.newaxis], GE.shape[2], axis=2)\n",
    "    repeated_sums_LT = np.repeat(sums_LT[:, :, np.newaxis], LT.shape[2], axis=2)\n",
    "    \n",
    "    P_GE = np.divide(GE, repeated_sums_GE, out=np.zeros_like(GE), where=repeated_sums_GE!=0)\n",
    "    P_LT = np.divide(LT, repeated_sums_LT, out=np.zeros_like(LT), where=repeated_sums_LT!=0)\n",
    "    \n",
    "    logP_GE = np.log2(P_GE, out=np.zeros_like(P_GE), where=P_GE>0)\n",
    "    logP_LT = np.log2(P_LT, out=np.zeros_like(P_LT), where=P_LT>0)\n",
    "    \n",
    "    GE = -np.sum(np.multiply(P_GE, logP_GE), axis=2)\n",
    "    LT = -np.sum(np.multiply(P_LT, logP_LT), axis=2)\n",
    "    \n",
    "    epv = sums_LT * LT / (sums_GE + sums_LT) + sums_GE * GE / (sums_GE + sums_LT)\n",
    "    vbest = np.argmin(epv, axis=0)\n",
    "    \n",
    "    if GE[vbest, 0] < LT[vbest, 0]:\n",
    "        return float(cands.iloc[vbest]), '>='\n",
    "    \n",
    "    return float(cands.iloc[vbest]), '<'"
   ]
  },
  {
   "cell_type": "code",
   "execution_count": 24,
   "id": "62298a6e",
   "metadata": {},
   "outputs": [],
   "source": [
    "features = df.drop('class', axis=1).columns\n",
    "logK = np.log2(len(emotions))"
   ]
  },
  {
   "cell_type": "code",
   "execution_count": 58,
   "id": "c9bf303b",
   "metadata": {},
   "outputs": [],
   "source": [
    "class Rule:\n",
    "    def __init__(self, train_set):\n",
    "        self.terms = {}\n",
    "        #{1:1, 18:1}\n",
    "        #{1:('>=', 13), 2:('<', 0.2)}\n",
    "        self.emotion = None\n",
    "        self.numerosity = 0\n",
    "        self.train_set = train_set\n",
    "        self.match_set = train_set\n",
    "    \n",
    "    def match(self, instance):\n",
    "        for key, value in instance.items():\n",
    "            if key in self.terms:\n",
    "                if self.terms[key][0] == '<' and self.terms[key][1] <= value:\n",
    "                    return False\n",
    "                elif self.terms[key][0] == '>=' and self.terms[key][1] > value:\n",
    "                    return False\n",
    "        return True\n",
    "    \n",
    "    def new_match_set(self, term):\n",
    "        if term['value'][0] == '>=':\n",
    "            return self.match_set.loc[self.match_set['f' + str(term['feature'])] >= term['value'][1]]\n",
    "        return self.match_set.loc[self.match_set['f' + str(term['feature'])] < term['value'][1]]\n",
    "    \n",
    "    def unmatch_set(self):\n",
    "        return pd.concat([self.train_set, self.match_set, self.match_set]).drop_duplicates(keep=False)\n",
    "    \n",
    "    def correct_set(self):\n",
    "        return self.match_set.loc[self.match_set['class'] == self.emotion]\n",
    "    \n",
    "    def exists(self, feature):\n",
    "        return feature in self.terms\n",
    "        \n",
    "    def addTerm(self, term, new_matches):\n",
    "        self.terms[term['feature']] = term['value']\n",
    "        self.match_set = new_matches\n",
    "        self.numerosity += 1\n",
    "        \n",
    "    def computeTerm(self, attribute):\n",
    "        pass\n",
    "        \n",
    "    def quality(self):\n",
    "        matches = self.match_set\n",
    "        unmatches = self.unmatch_set()\n",
    "        TP = len(matches.loc[matches['class'] == self.emotion])\n",
    "        FP = len(matches.loc[matches['class'] != self.emotion])\n",
    "        FN = len(unmatches.loc[unmatches['class'] == self.emotion])\n",
    "        TN = len(unmatches.loc[unmatches['class'] != self.emotion])\n",
    "        \n",
    "        sens = TP / (TP + FN)\n",
    "        spec = TN / (FP + TN)\n",
    "        \n",
    "        return sens * spec\n",
    "        \n",
    "    def prune(self):\n",
    "        print(\"In pruning\")\n",
    "        #Storing previous best rule\n",
    "        BackupTerms = self.terms.copy()\n",
    "    \n",
    "        # Keys of the terms. (features)\n",
    "        rule_keys = list(BackupTerms.copy().keys())\n",
    "        maxQuality = self.quality()\n",
    "        \n",
    "        #Rule must be atleast one term.\n",
    "        for i in range(self.numerosity,0,-1):\n",
    "            \n",
    "            #Getting all possible subsets , of length i, of the terms.\n",
    "            for subset in itertools.combinations(rule_keys,i):\n",
    "                #Converting it to a dictionary.\n",
    "                self.terms = {l: self.terms[l] for l in list(subset)}\n",
    "      \n",
    "              \n",
    "                #Comparing the qualities and storing the maximal of the two.\n",
    "                if maxQuality >= self.quality():\n",
    "                    self.terms = BackupTerms.copy()\n",
    "                \n",
    "                else:\n",
    "                    BackupTerms = self.terms.copy()\n",
    "        "
   ]
  },
  {
   "cell_type": "code",
   "execution_count": 59,
   "id": "c1e88ed3",
   "metadata": {},
   "outputs": [],
   "source": [
    "def normalize_probs(probs):\n",
    "    return probs / np.sum(probs)"
   ]
  },
  {
   "cell_type": "code",
   "execution_count": 60,
   "id": "796acd8f",
   "metadata": {},
   "outputs": [],
   "source": [
    "class Ant:\n",
    "    def __init__(self, index, train_set, n_tries, min_coverage):\n",
    "        self.index = index\n",
    "        self.rule = Rule(train_set)\n",
    "        self.n_tries = n_tries\n",
    "        self.min_coverage = min_coverage\n",
    "    \n",
    "    def traverse(self, T):\n",
    "        Eta = logK - entropies\n",
    "\n",
    "        Probs = np.multiply(Eta, T)\n",
    "        Probs = normalize_probs(Probs)\n",
    "        \n",
    "        should_continue = True\n",
    "        while(should_continue):\n",
    "            tries = self.n_tries\n",
    "            while(tries):\n",
    "                chosen = int(np.random.choice(len(Probs), 1, p=Probs))\n",
    "                v, op = calc_threshold_and_operator(self.rule.match_set[['f' + str(chosen), 'class']])\n",
    "                term = {'feature': chosen, 'value': (op, v)}\n",
    "                new_cov = self.rule.new_match_set(term)\n",
    "                if len(new_cov) >= self.min_coverage:\n",
    "                    self.rule.addTerm(term, new_cov)\n",
    "                    print(\"Added \" + str(term))\n",
    "                    \n",
    "                    Probs[term['feature']] = 0\n",
    "                    Probs = normalize_probs(Probs)\n",
    "                    \n",
    "                    should_continue = True\n",
    "                    break\n",
    "                tries -= 1\n",
    "                should_continue = False\n",
    "                \n",
    "    def set_emotion(self):\n",
    "        matches = self.rule.match_set\n",
    "        self.rule.emotion = matches['class'].mode()[0]\n",
    "        "
   ]
  },
  {
   "cell_type": "code",
   "execution_count": 82,
   "id": "439d4fa6",
   "metadata": {},
   "outputs": [],
   "source": [
    "class World:\n",
    "    def __init__(\n",
    "        self,\n",
    "        min_coverage = 10,\n",
    "        max_uncovered = 10,\n",
    "        n_ants = 500,\n",
    "        max_dups = 1,\n",
    "        tries = 10,\n",
    "        pruning = False,\n",
    "        train_set = train.copy(deep=True),\n",
    "    ):\n",
    "    \n",
    "        self.min_coverage = min_coverage\n",
    "        self.max_uncovered = max_uncovered\n",
    "        self.n_ants = n_ants\n",
    "        self.max_dups = max_dups\n",
    "        self.tries = tries\n",
    "        self.pruning = pruning\n",
    "        self.train_set = train_set\n",
    "        self.pheromone_map = np.ones_like(entropies) * (1 / len(features))\n",
    "        self.discovered_rule_list = []\n",
    "        self.correct_covered = 0\n",
    "        \n",
    "    def reset_pheromones(self):\n",
    "        self.pheromone_map = np.ones_like(entropies) * (1 / len(features))\n",
    "\n",
    "    def deposit_pheromones(self, new_pheromones):\n",
    "        self.pheromone_map = self.pheromone_map + new_pheromones\n",
    "        \n",
    "    def evaporate_pheromones(self):\n",
    "        self.pheromone_map = self.pheromone_map / np.sum(self.pheromone_map)\n",
    "        \n",
    "    def plot_pheromones(self, a):\n",
    "        vis = self.pheromone_map[:-1]\n",
    "        vis = vis.reshape(31,21)\n",
    "        plt.imshow(vis)\n",
    "        plt.colorbar()\n",
    "        plt.savefig('Plots/Generation' + str(len(self.discovered_rule_list)) + 'ant' + str(a))\n",
    "        plt.clf()\n",
    "        \n",
    "        for widget in win.tf.winfo_children():\n",
    "            widget.destroy()\n",
    "        for widget in win.dataframe.winfo_children():\n",
    "            widget.destroy()\n",
    "\n",
    "        figure = plt.figure(figsize=(5,5),dpi=100)\n",
    "        plot = figure.add_subplot(111)\n",
    "        bar = plot.imshow(vis)\n",
    "        figure.colorbar(bar)\n",
    "\n",
    "        canvas = FigureCanvasTkAgg(figure,win.tf)\n",
    "        canvas.get_tk_widget().grid()\n",
    "        \n",
    "        ttk.Label(win.dataframe,text=str(\"Current generation: \"+str(len(self.discovered_rule_list)+1))).pack()\n",
    "        ttk.Label(win.dataframe,text=str(\"Current ant number: \"+str(a+1))).pack()\n",
    "\n",
    "        win.w.update()\n",
    "    \n",
    "    def dispatch_ants(self):\n",
    "        prev_rules = []\n",
    "        prev_qualities = []\n",
    "        dups = 0\n",
    "        for a in range(self.n_ants):\n",
    "            ant = Ant(a, self.train_set, self.tries, self.min_coverage)\n",
    "            print(\"initialized ant \" + str(a))\n",
    "            ant.traverse(self.pheromone_map)\n",
    "            ant.set_emotion()\n",
    "            if self.pruning:\n",
    "                ant.rule.prune()\n",
    "            \n",
    "            for prev_rule in prev_rules:\n",
    "                if ant.rule == prev_rule:\n",
    "                    dups += 1\n",
    "                    break\n",
    "            else:\n",
    "                Q = ant.rule.quality()\n",
    "\n",
    "                mask = np.zeros_like(entropies)\n",
    "                mask[list(ant.rule.terms)] = 1\n",
    "                \n",
    "                self.deposit_pheromones(np.multiply(self.pheromone_map, mask) * Q)\n",
    "                self.evaporate_pheromones()\n",
    "\n",
    "                #if a%20 == 0:\n",
    "                self.plot_pheromones(a)\n",
    "\n",
    "                prev_rules.append(ant.rule)\n",
    "                prev_qualities.append(Q)\n",
    "                \n",
    "            if dups > self.max_dups:\n",
    "                break\n",
    "\n",
    "        imax = np.argmax(prev_qualities)\n",
    "        \n",
    "        return prev_rules[imax]\n",
    "    \n",
    "    def discover_rules(self):\n",
    "        while(len(self.train_set) > self.max_uncovered):\n",
    "            self.reset_pheromones()\n",
    "            \n",
    "            for widget in win.progress.winfo_children():\n",
    "                widget.destroy()\n",
    "            ttk.Label(win.progress, text=str(\"No. of training instances: \" + str(len(train)))).pack()\n",
    "            ttk.Label(win.progress, text=str(\"No. of correctly covered instances: \" + str(self.correct_covered))).pack()\n",
    "            win.w.update()\n",
    "                \n",
    "            best_rule = self.dispatch_ants()\n",
    "            self.discovered_rule_list.append(best_rule)\n",
    "\n",
    "            corrects = best_rule.correct_set()\n",
    "            self.correct_covered += len(corrects)\n",
    "            \n",
    "            self.train_set = pd.concat([self.train_set, corrects, corrects]).drop_duplicates(keep=False)\n",
    "        "
   ]
  },
  {
   "cell_type": "code",
   "execution_count": 83,
   "id": "cc338b4d",
   "metadata": {},
   "outputs": [],
   "source": [
    "def Worldgen(*args):\n",
    "    a = min_coverage.get()\n",
    "    b = max_uncovered.get()\n",
    "    c = n_ants.get()\n",
    "    d = max_dups.get()\n",
    "    e = chance_murder_ant.get()\n",
    "    f = pruning.get()\n",
    "    world = World(min_coverage=a,max_uncovered=b,n_ants=c,max_dups=d,tries=e, pruning=f)\n",
    "    world.discover_rules()\n",
    "    run.destroy()\n",
    "    win.exit_button()"
   ]
  },
  {
   "cell_type": "code",
   "execution_count": 84,
   "id": "3d8964ad",
   "metadata": {},
   "outputs": [
    {
     "name": "stdout",
     "output_type": "stream",
     "text": [
      "initialized ant 0\n",
      "Added {'feature': 237, 'value': ('>=', 3.9219999999999997)}\n",
      "Added {'feature': 3, 'value': ('>=', 152.02966666666669)}\n",
      "Added {'feature': 304, 'value': ('<', -0.2443333333333334)}\n",
      "Added {'feature': 124, 'value': ('>=', 10.725)}\n",
      "Added {'feature': 629, 'value': ('>=', -222.48055555555555)}\n",
      "initialized ant 0\n",
      "Added {'feature': 415, 'value': ('>=', 0.16600000000000004)}\n",
      "Added {'feature': 565, 'value': ('>=', 0.075)}\n",
      "initialized ant 0\n",
      "Added {'feature': 196, 'value': ('<', 0.11844444444444446)}\n",
      "Added {'feature': 2, 'value': ('>=', -352.4521111111111)}\n",
      "Added {'feature': 87, 'value': ('>=', 10.081333333333331)}\n",
      "Added {'feature': 405, 'value': ('<', 0.002)}\n",
      "initialized ant 0\n",
      "Added {'feature': 624, 'value': ('>=', 14.934333333333335)}\n",
      "Added {'feature': 384, 'value': ('<', 2.068)}\n",
      "Added {'feature': 394, 'value': ('<', 0.09)}\n",
      "Added {'feature': 241, 'value': ('>=', -818.6033333333332)}\n",
      "Added {'feature': 237, 'value': ('>=', 3.339)}\n",
      "initialized ant 0\n",
      "Added {'feature': 32, 'value': ('<', 36.73222222222222)}\n",
      "Added {'feature': 373, 'value': ('<', 560.4112222222222)}\n",
      "initialized ant 0\n",
      "Added {'feature': 414, 'value': ('<', 0.239)}\n",
      "Added {'feature': 287, 'value': ('<', 2.1416666666666666)}\n",
      "Added {'feature': 243, 'value': ('<', 62.0)}\n",
      "initialized ant 0\n",
      "Added {'feature': 65, 'value': ('<', -0.369)}\n",
      "Added {'feature': 195, 'value': ('<', 3.4029999999999996)}\n",
      "Added {'feature': 650, 'value': ('<', 0.10944444444444446)}\n",
      "initialized ant 0\n",
      "Added {'feature': 54, 'value': ('<', -9.171666666666667)}\n",
      "Added {'feature': 400, 'value': ('<', 0.04)}\n",
      "Added {'feature': 403, 'value': ('<', 0.195)}\n",
      "Added {'feature': 91, 'value': ('>=', -25.875888888888888)}\n",
      "Added {'feature': 396, 'value': ('<', 1.130222222222222)}\n",
      "initialized ant 0\n",
      "Added {'feature': 644, 'value': ('<', -1.058888888888889)}\n",
      "Added {'feature': 5, 'value': ('<', -1.5584444444444445)}\n",
      "Added {'feature': 394, 'value': ('>=', 0.09)}\n",
      "Added {'feature': 113, 'value': ('>=', 0.5321111111111111)}\n",
      "Added {'feature': 311, 'value': ('<', 2.184555555555556)}\n",
      "initialized ant 0\n",
      "Added {'feature': 132, 'value': ('<', -0.03)}\n",
      "Added {'feature': 34, 'value': ('>=', 0.5666666666666663)}\n",
      "Added {'feature': 559, 'value': ('<', 0.069)}\n",
      "Added {'feature': 157, 'value': ('<', -28.52288888888889)}\n",
      "initialized ant 0\n",
      "Added {'feature': 98, 'value': ('>=', 26.114222222222214)}\n",
      "Added {'feature': 107, 'value': ('>=', 2.0995555555555554)}\n",
      "Added {'feature': 467, 'value': ('<', -0.9001111111111111)}\n",
      "initialized ant 0\n",
      "Added {'feature': 602, 'value': ('<', -0.31222222222222223)}\n",
      "Added {'feature': 12, 'value': ('>=', -2.3631111111111105)}\n",
      "Added {'feature': 305, 'value': ('>=', 4.093222222222222)}\n",
      "Added {'feature': 63, 'value': ('>=', 8.63188888888889)}\n",
      "initialized ant 0\n",
      "Added {'feature': 478, 'value': ('<', 0.0)}\n",
      "initialized ant 0\n",
      "Added {'feature': 456, 'value': ('>=', 0.28)}\n",
      "Added {'feature': 560, 'value': ('>=', -0.9421111111111111)}\n",
      "Added {'feature': 231, 'value': ('>=', 3.9061111111111115)}\n",
      "Added {'feature': 492, 'value': ('<', 0.233)}\n",
      "initialized ant 0\n",
      "Added {'feature': 524, 'value': ('>=', -0.04)}\n",
      "Added {'feature': 326, 'value': ('<', 16.617444444444445)}\n",
      "Added {'feature': 450, 'value': ('>=', 0.37)}\n",
      "initialized ant 0\n",
      "Added {'feature': 229, 'value': ('<', -15.763666666666666)}\n",
      "Added {'feature': 365, 'value': ('>=', 187.12033333333335)}\n",
      "Added {'feature': 311, 'value': ('<', 3.0630000000000006)}\n",
      "initialized ant 0\n",
      "Added {'feature': 104, 'value': ('>=', 35.03622222222222)}\n",
      "Added {'feature': 561, 'value': ('>=', 10.603)}\n",
      "initialized ant 0\n",
      "Added {'feature': 593, 'value': ('>=', -0.171)}\n",
      "Added {'feature': 325, 'value': ('>=', -13.633)}\n",
      "Added {'feature': 243, 'value': ('>=', 62.0)}\n",
      "initialized ant 0\n",
      "Added {'feature': 498, 'value': ('<', 0.19399999999999995)}\n",
      "Added {'feature': 280, 'value': ('<', -0.8521111111111112)}\n",
      "Added {'feature': 176, 'value': ('<', 14.762)}\n",
      "initialized ant 0\n",
      "Added {'feature': 254, 'value': ('>=', 63.519666666666666)}\n",
      "Added {'feature': 354, 'value': ('>=', 0.0)}\n",
      "Added {'feature': 84, 'value': ('>=', -4.503666666666668)}\n",
      "Added {'feature': 512, 'value': ('>=', 0.2381111111111111)}\n",
      "Added {'feature': 36, 'value': ('<', -8.025)}\n"
     ]
    },
    {
     "name": "stderr",
     "output_type": "stream",
     "text": [
      "C:\\ProgramData\\Anaconda3\\envs\\ga-aco\\lib\\site-packages\\ipykernel_launcher.py:46: RuntimeWarning: More than 20 figures have been opened. Figures created through the pyplot interface (`matplotlib.pyplot.figure`) are retained until explicitly closed and may consume too much memory. (To control this warning, see the rcParam `figure.max_open_warning`).\n"
     ]
    },
    {
     "name": "stdout",
     "output_type": "stream",
     "text": [
      "initialized ant 0\n",
      "Added {'feature': 120, 'value': ('<', 2.1790000000000003)}\n",
      "Added {'feature': 437, 'value': ('<', -0.272)}\n",
      "Added {'feature': 345, 'value': ('<', 4.290111111111111)}\n",
      "Added {'feature': 625, 'value': ('>=', 2.948888888888889)}\n",
      "Added {'feature': 307, 'value': ('<', -20.017000000000003)}\n",
      "Added {'feature': 17, 'value': ('<', 1.4383333333333335)}\n",
      "initialized ant 0\n",
      "Added {'feature': 543, 'value': ('<', 6.7940000000000005)}\n",
      "Added {'feature': 499, 'value': ('>=', 0.052000000000000005)}\n",
      "Added {'feature': 44, 'value': ('>=', 37.535)}\n",
      "Added {'feature': 521, 'value': ('<', -0.16899999999999998)}\n",
      "Added {'feature': 162, 'value': ('>=', -0.004)}\n",
      "initialized ant 0\n",
      "Added {'feature': 421, 'value': ('>=', 0.129)}\n",
      "Added {'feature': 498, 'value': ('<', 0.16499999999999998)}\n",
      "Added {'feature': 136, 'value': ('<', -2.1350000000000007)}\n",
      "initialized ant 0\n",
      "Added {'feature': 269, 'value': ('>=', 5.908666666666667)}\n",
      "Added {'feature': 347, 'value': ('>=', 1.474)}\n",
      "Added {'feature': 5, 'value': ('<', -1.636)}\n",
      "Added {'feature': 44, 'value': ('>=', 37.535)}\n",
      "Added {'feature': 219, 'value': ('<', 3.1737777777777776)}\n",
      "initialized ant 0\n",
      "Added {'feature': 414, 'value': ('<', 0.239)}\n",
      "Added {'feature': 316, 'value': ('<', -0.161)}\n",
      "Added {'feature': 321, 'value': ('>=', 4.6610000000000005)}\n",
      "initialized ant 0\n",
      "Added {'feature': 230, 'value': ('>=', 12.648333333333333)}\n",
      "Added {'feature': 185, 'value': ('>=', 3.4407777777777775)}\n",
      "Added {'feature': 384, 'value': ('>=', 2.1430000000000002)}\n",
      "Added {'feature': 32, 'value': ('<', 36.73222222222222)}\n",
      "Added {'feature': 45, 'value': ('>=', 12.728222222222222)}\n",
      "initialized ant 0\n",
      "Added {'feature': 128, 'value': ('<', 70.6)}\n",
      "Added {'feature': 38, 'value': ('<', 16.650666666666666)}\n",
      "Added {'feature': 357, 'value': ('>=', 4.9574444444444445)}\n"
     ]
    },
    {
     "name": "stderr",
     "output_type": "stream",
     "text": [
      "Exception in Tkinter callback\n",
      "Traceback (most recent call last):\n",
      "  File \"C:\\ProgramData\\Anaconda3\\envs\\ga-aco\\lib\\tkinter\\__init__.py\", line 1705, in __call__\n",
      "    return self.func(*args)\n",
      "  File \"C:\\Users\\Pranav\\AppData\\Local\\Temp/ipykernel_29716/1150796624.py\", line 9, in Worldgen\n",
      "    world.discover_rules()\n",
      "  File \"C:\\Users\\Pranav\\AppData\\Local\\Temp/ipykernel_29716/134413903.py\", line 101, in discover_rules\n",
      "    for widget in win.progress.winfo_children():\n",
      "  File \"C:\\ProgramData\\Anaconda3\\envs\\ga-aco\\lib\\tkinter\\__init__.py\", line 959, in winfo_children\n",
      "    self.tk.call('winfo', 'children', self._w)):\n",
      "_tkinter.TclError: can't invoke \"winfo\" command: application has been destroyed\n"
     ]
    },
    {
     "data": {
      "text/plain": [
       "<Figure size 432x288 with 0 Axes>"
      ]
     },
     "metadata": {},
     "output_type": "display_data"
    },
    {
     "data": {
      "text/plain": [
       "<Figure size 500x500 with 0 Axes>"
      ]
     },
     "metadata": {},
     "output_type": "display_data"
    },
    {
     "data": {
      "text/plain": [
       "<Figure size 500x500 with 0 Axes>"
      ]
     },
     "metadata": {},
     "output_type": "display_data"
    },
    {
     "data": {
      "text/plain": [
       "<Figure size 500x500 with 0 Axes>"
      ]
     },
     "metadata": {},
     "output_type": "display_data"
    },
    {
     "data": {
      "text/plain": [
       "<Figure size 500x500 with 0 Axes>"
      ]
     },
     "metadata": {},
     "output_type": "display_data"
    },
    {
     "data": {
      "text/plain": [
       "<Figure size 500x500 with 0 Axes>"
      ]
     },
     "metadata": {},
     "output_type": "display_data"
    },
    {
     "data": {
      "text/plain": [
       "<Figure size 500x500 with 0 Axes>"
      ]
     },
     "metadata": {},
     "output_type": "display_data"
    },
    {
     "data": {
      "text/plain": [
       "<Figure size 500x500 with 0 Axes>"
      ]
     },
     "metadata": {},
     "output_type": "display_data"
    },
    {
     "data": {
      "text/plain": [
       "<Figure size 500x500 with 0 Axes>"
      ]
     },
     "metadata": {},
     "output_type": "display_data"
    },
    {
     "data": {
      "text/plain": [
       "<Figure size 500x500 with 0 Axes>"
      ]
     },
     "metadata": {},
     "output_type": "display_data"
    },
    {
     "data": {
      "text/plain": [
       "<Figure size 500x500 with 0 Axes>"
      ]
     },
     "metadata": {},
     "output_type": "display_data"
    },
    {
     "data": {
      "text/plain": [
       "<Figure size 500x500 with 0 Axes>"
      ]
     },
     "metadata": {},
     "output_type": "display_data"
    },
    {
     "data": {
      "text/plain": [
       "<Figure size 500x500 with 0 Axes>"
      ]
     },
     "metadata": {},
     "output_type": "display_data"
    },
    {
     "data": {
      "text/plain": [
       "<Figure size 500x500 with 0 Axes>"
      ]
     },
     "metadata": {},
     "output_type": "display_data"
    },
    {
     "data": {
      "text/plain": [
       "<Figure size 500x500 with 0 Axes>"
      ]
     },
     "metadata": {},
     "output_type": "display_data"
    },
    {
     "data": {
      "text/plain": [
       "<Figure size 500x500 with 0 Axes>"
      ]
     },
     "metadata": {},
     "output_type": "display_data"
    },
    {
     "data": {
      "text/plain": [
       "<Figure size 500x500 with 0 Axes>"
      ]
     },
     "metadata": {},
     "output_type": "display_data"
    },
    {
     "data": {
      "text/plain": [
       "<Figure size 500x500 with 0 Axes>"
      ]
     },
     "metadata": {},
     "output_type": "display_data"
    },
    {
     "data": {
      "text/plain": [
       "<Figure size 500x500 with 0 Axes>"
      ]
     },
     "metadata": {},
     "output_type": "display_data"
    },
    {
     "data": {
      "text/plain": [
       "<Figure size 500x500 with 0 Axes>"
      ]
     },
     "metadata": {},
     "output_type": "display_data"
    },
    {
     "data": {
      "text/plain": [
       "<Figure size 500x500 with 0 Axes>"
      ]
     },
     "metadata": {},
     "output_type": "display_data"
    },
    {
     "data": {
      "text/plain": [
       "<Figure size 500x500 with 0 Axes>"
      ]
     },
     "metadata": {},
     "output_type": "display_data"
    },
    {
     "data": {
      "text/plain": [
       "<Figure size 500x500 with 0 Axes>"
      ]
     },
     "metadata": {},
     "output_type": "display_data"
    },
    {
     "data": {
      "text/plain": [
       "<Figure size 500x500 with 0 Axes>"
      ]
     },
     "metadata": {},
     "output_type": "display_data"
    },
    {
     "data": {
      "text/plain": [
       "<Figure size 500x500 with 0 Axes>"
      ]
     },
     "metadata": {},
     "output_type": "display_data"
    },
    {
     "data": {
      "text/plain": [
       "<Figure size 500x500 with 0 Axes>"
      ]
     },
     "metadata": {},
     "output_type": "display_data"
    },
    {
     "data": {
      "text/plain": [
       "<Figure size 500x500 with 0 Axes>"
      ]
     },
     "metadata": {},
     "output_type": "display_data"
    },
    {
     "data": {
      "image/png": "[encoded data removed]",
      "text/plain": [
       "<Figure size 500x500 with 2 Axes>"
      ]
     },
     "metadata": {
      "needs_background": "light"
     },
     "output_type": "display_data"
    }
   ],
   "source": [
    "win = Window(title=\"Algorithm run\",geometry=\"800x1000\")\n",
    "win.label(\"Now we run the actual program. Enter the required hyperparameters below:\")\n",
    "\n",
    "min_coverage = IntVar(value=10)\n",
    "win.label(\"\\nmin_coverage:\")\n",
    "ttk.Entry(win.frame,width=7,textvariable=min_coverage).pack()\n",
    "max_uncovered = IntVar(value=10)\n",
    "win.label(\"\\nmax_uncovered:\")\n",
    "ttk.Entry(win.frame,width=7,textvariable=max_uncovered).pack()\n",
    "n_ants = IntVar(value=500)\n",
    "win.label(\"\\nn_ants:\")\n",
    "ttk.Entry(win.frame,width=7,textvariable=n_ants).pack()\n",
    "max_dups = IntVar(value=1)\n",
    "win.label(\"\\nmax_dups:\")\n",
    "ttk.Entry(win.frame,width=7,textvariable=max_dups).pack()\n",
    "chance_murder_ant = IntVar(value=10)\n",
    "win.label(\"\\nNumber of tries for each ant:\")\n",
    "ttk.Entry(win.frame,width=7,textvariable=chance_murder_ant).pack()\n",
    "pruning = BooleanVar(value=False)\n",
    "win.label(\"\\nPruning?\")\n",
    "ttk.Entry(win.frame,width=7,textvariable=pruning).pack()\n",
    "\n",
    "run = ttk.Button(text=\"Run\",command=Worldgen)\n",
    "run.pack()\n",
    "\n",
    "\n",
    "win.w.mainloop()"
   ]
  },
  {
   "cell_type": "code",
   "execution_count": 31,
   "id": "4bc5f21b",
   "metadata": {},
   "outputs": [],
   "source": [
    "from collections import defaultdict"
   ]
  },
  {
   "cell_type": "code",
   "execution_count": null,
   "id": "dc42c5fa",
   "metadata": {},
   "outputs": [],
   "source": [
    "def predict(row):\n",
    "    matching_rules = []\n",
    "    instance = dict(row)\n",
    "    \n",
    "    preddict = defaultdict(lambda: 0)\n",
    "    for rule in world.discovered_rule_list:\n",
    "        if rule.match(instance):\n",
    "            preddict[rule.emotion] += 1\n",
    "            \n",
    "    if preddict:\n",
    "        return max(preddict, key=preddict.get)\n",
    "    return 'unable to predict'"
   ]
  },
  {
   "cell_type": "code",
   "execution_count": null,
   "id": "ad6820c4",
   "metadata": {},
   "outputs": [],
   "source": [
    "disc2 = test.copy(deep=True)\n",
    "disc2.columns = range(len(df.columns))\n",
    "disc2.rename(columns={652: 'class'}, inplace=True)\n",
    "disc2['preds'] = 'nothing'"
   ]
  },
  {
   "cell_type": "code",
   "execution_count": null,
   "id": "2806d7fe",
   "metadata": {},
   "outputs": [],
   "source": [
    "for i, row in enumerate(disc2.iterrows()):\n",
    "    disc2.at[i, 'preds'] = predict(disc2.drop(['preds', 'class'], axis=1).iloc[i])\n",
    "#disc2"
   ]
  },
  {
   "cell_type": "code",
   "execution_count": null,
   "id": "246063e5",
   "metadata": {},
   "outputs": [],
   "source": [
    "correct = disc2.loc[disc2['class'] == disc2['preds']]\n",
    "predicted = disc2.loc[disc2['preds'] != 'unable to predict']\n",
    "len(correct), len(predicted), len(correct)/len(predicted), len(correct)/len(disc2)"
   ]
  },
  {
   "cell_type": "markdown",
   "id": "9a3ff8d0",
   "metadata": {},
   "source": [
    "# From here it's just random testing"
   ]
  },
  {
   "cell_type": "code",
   "execution_count": null,
   "id": "04717956",
   "metadata": {
    "scrolled": false
   },
   "outputs": [],
   "source": [
    "np.unique(np.random.choice(4, 1000, p=[0, 0.33, 0.33, 0.34]), return_counts=True)"
   ]
  },
  {
   "cell_type": "code",
   "execution_count": null,
   "id": "d40a7c67",
   "metadata": {},
   "outputs": [],
   "source": [
    "x = len(features) - 0\n",
    "Eta = logK - H\n",
    "denom = x * np.sum(Eta, axis=0)\n",
    "Eta = np.divide(Eta, denom)\n",
    "\n",
    "T = np.random.rand(H.shape[0], H.shape[1])\n",
    "Probs = np.multiply(Eta, T)\n",
    "denom = x * np.sum(Probs, axis=0)\n",
    "Probs = np.divide(Probs, denom)\n",
    "np.sum(Probs)"
   ]
  },
  {
   "cell_type": "code",
   "execution_count": null,
   "id": "167f61bf",
   "metadata": {},
   "outputs": [],
   "source": [
    "flattened = Probs.flatten()\n",
    "num = np.random.choice(len(flattened), 1, p=flattened)\n",
    "col = num % 652\n",
    "row = num // 652\n",
    "int(col), int(row)"
   ]
  }
 ],
 "metadata": {
  "kernelspec": {
   "display_name": "Python 3 (ipykernel)",
   "language": "python",
   "name": "python3"
  },
  "language_info": {
   "codemirror_mode": {
    "name": "ipython",
    "version": 3
   },
   "file_extension": ".py",
   "mimetype": "text/x-python",
   "name": "python",
   "nbconvert_exporter": "python",
   "pygments_lexer": "ipython3",
   "version": "3.7.9"
  }
 },
 "nbformat": 4,
 "nbformat_minor": 5
}
