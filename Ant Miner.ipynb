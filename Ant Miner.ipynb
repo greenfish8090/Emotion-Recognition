{
 "cells": [
  {
   "cell_type": "markdown",
   "id": "8f3c9b2f",
   "metadata": {},
   "source": [
    "# An implementation of the Ant miner paper for Emotion Recognition"
   ]
  },
  {
   "cell_type": "code",
   "execution_count": 1,
   "id": "87691e73",
   "metadata": {},
   "outputs": [],
   "source": [
    "import numpy as np\n",
    "import pandas as pd\n",
    "import matplotlib.pyplot as plt"
   ]
  },
  {
   "cell_type": "code",
   "execution_count": 3,
   "id": "22c2f993",
   "metadata": {},
   "outputs": [
    {
     "data": {
      "text/html": [
       "<div>\n",
       "<style scoped>\n",
       "    .dataframe tbody tr th:only-of-type {\n",
       "        vertical-align: middle;\n",
       "    }\n",
       "\n",
       "    .dataframe tbody tr th {\n",
       "        vertical-align: top;\n",
       "    }\n",
       "\n",
       "    .dataframe thead th {\n",
       "        text-align: right;\n",
       "    }\n",
       "</style>\n",
       "<table border=\"1\" class=\"dataframe\">\n",
       "  <thead>\n",
       "    <tr style=\"text-align: right;\">\n",
       "      <th></th>\n",
       "      <th>f0</th>\n",
       "      <th>f1</th>\n",
       "      <th>f2</th>\n",
       "      <th>f3</th>\n",
       "      <th>f4</th>\n",
       "      <th>f5</th>\n",
       "      <th>f6</th>\n",
       "      <th>f7</th>\n",
       "      <th>f8</th>\n",
       "      <th>f9</th>\n",
       "      <th>...</th>\n",
       "      <th>f643</th>\n",
       "      <th>f644</th>\n",
       "      <th>f645</th>\n",
       "      <th>f646</th>\n",
       "      <th>f647</th>\n",
       "      <th>f648</th>\n",
       "      <th>f649</th>\n",
       "      <th>f650</th>\n",
       "      <th>f651</th>\n",
       "      <th>class</th>\n",
       "    </tr>\n",
       "  </thead>\n",
       "  <tbody>\n",
       "    <tr>\n",
       "      <th>0</th>\n",
       "      <td>-675.852</td>\n",
       "      <td>-820.630</td>\n",
       "      <td>-372.474</td>\n",
       "      <td>156.448</td>\n",
       "      <td>0.455</td>\n",
       "      <td>-1.471</td>\n",
       "      <td>68.959</td>\n",
       "      <td>-15.910</td>\n",
       "      <td>217.757</td>\n",
       "      <td>72.966</td>\n",
       "      <td>...</td>\n",
       "      <td>15.036</td>\n",
       "      <td>-3.957</td>\n",
       "      <td>32.880</td>\n",
       "      <td>0.023</td>\n",
       "      <td>-110.137</td>\n",
       "      <td>112.829</td>\n",
       "      <td>20.504</td>\n",
       "      <td>-0.442</td>\n",
       "      <td>17.036</td>\n",
       "      <td>neutral</td>\n",
       "    </tr>\n",
       "    <tr>\n",
       "      <th>1</th>\n",
       "      <td>-640.294</td>\n",
       "      <td>-783.178</td>\n",
       "      <td>-358.277</td>\n",
       "      <td>154.661</td>\n",
       "      <td>0.411</td>\n",
       "      <td>-1.555</td>\n",
       "      <td>64.627</td>\n",
       "      <td>-47.438</td>\n",
       "      <td>218.073</td>\n",
       "      <td>76.974</td>\n",
       "      <td>...</td>\n",
       "      <td>12.265</td>\n",
       "      <td>-4.655</td>\n",
       "      <td>30.513</td>\n",
       "      <td>-0.725</td>\n",
       "      <td>-82.309</td>\n",
       "      <td>67.398</td>\n",
       "      <td>13.982</td>\n",
       "      <td>-1.941</td>\n",
       "      <td>19.824</td>\n",
       "      <td>neutral</td>\n",
       "    </tr>\n",
       "    <tr>\n",
       "      <th>2</th>\n",
       "      <td>-677.497</td>\n",
       "      <td>-825.274</td>\n",
       "      <td>-375.799</td>\n",
       "      <td>157.171</td>\n",
       "      <td>0.415</td>\n",
       "      <td>-1.537</td>\n",
       "      <td>66.738</td>\n",
       "      <td>-79.028</td>\n",
       "      <td>208.915</td>\n",
       "      <td>73.381</td>\n",
       "      <td>...</td>\n",
       "      <td>22.398</td>\n",
       "      <td>-2.424</td>\n",
       "      <td>37.887</td>\n",
       "      <td>-0.037</td>\n",
       "      <td>-169.023</td>\n",
       "      <td>170.742</td>\n",
       "      <td>30.984</td>\n",
       "      <td>0.124</td>\n",
       "      <td>18.527</td>\n",
       "      <td>neutral</td>\n",
       "    </tr>\n",
       "    <tr>\n",
       "      <th>3</th>\n",
       "      <td>-659.499</td>\n",
       "      <td>-809.578</td>\n",
       "      <td>-356.445</td>\n",
       "      <td>164.199</td>\n",
       "      <td>0.455</td>\n",
       "      <td>-1.502</td>\n",
       "      <td>61.317</td>\n",
       "      <td>-70.403</td>\n",
       "      <td>214.674</td>\n",
       "      <td>75.767</td>\n",
       "      <td>...</td>\n",
       "      <td>10.528</td>\n",
       "      <td>1.095</td>\n",
       "      <td>18.721</td>\n",
       "      <td>-0.004</td>\n",
       "      <td>-59.714</td>\n",
       "      <td>50.999</td>\n",
       "      <td>13.634</td>\n",
       "      <td>-0.887</td>\n",
       "      <td>10.296</td>\n",
       "      <td>neutral</td>\n",
       "    </tr>\n",
       "    <tr>\n",
       "      <th>4</th>\n",
       "      <td>-698.072</td>\n",
       "      <td>-857.808</td>\n",
       "      <td>-409.923</td>\n",
       "      <td>156.816</td>\n",
       "      <td>0.281</td>\n",
       "      <td>-1.594</td>\n",
       "      <td>70.695</td>\n",
       "      <td>-55.799</td>\n",
       "      <td>221.357</td>\n",
       "      <td>70.646</td>\n",
       "      <td>...</td>\n",
       "      <td>24.944</td>\n",
       "      <td>-2.291</td>\n",
       "      <td>42.875</td>\n",
       "      <td>0.022</td>\n",
       "      <td>-253.151</td>\n",
       "      <td>210.330</td>\n",
       "      <td>35.594</td>\n",
       "      <td>-0.635</td>\n",
       "      <td>28.814</td>\n",
       "      <td>calm</td>\n",
       "    </tr>\n",
       "  </tbody>\n",
       "</table>\n",
       "<p>5 rows × 653 columns</p>\n",
       "</div>"
      ],
      "text/plain": [
       "        f0       f1       f2       f3     f4     f5      f6      f7       f8  \\\n",
       "0 -675.852 -820.630 -372.474  156.448  0.455 -1.471  68.959 -15.910  217.757   \n",
       "1 -640.294 -783.178 -358.277  154.661  0.411 -1.555  64.627 -47.438  218.073   \n",
       "2 -677.497 -825.274 -375.799  157.171  0.415 -1.537  66.738 -79.028  208.915   \n",
       "3 -659.499 -809.578 -356.445  164.199  0.455 -1.502  61.317 -70.403  214.674   \n",
       "4 -698.072 -857.808 -409.923  156.816  0.281 -1.594  70.695 -55.799  221.357   \n",
       "\n",
       "       f9  ...    f643   f644    f645   f646     f647     f648    f649   f650  \\\n",
       "0  72.966  ...  15.036 -3.957  32.880  0.023 -110.137  112.829  20.504 -0.442   \n",
       "1  76.974  ...  12.265 -4.655  30.513 -0.725  -82.309   67.398  13.982 -1.941   \n",
       "2  73.381  ...  22.398 -2.424  37.887 -0.037 -169.023  170.742  30.984  0.124   \n",
       "3  75.767  ...  10.528  1.095  18.721 -0.004  -59.714   50.999  13.634 -0.887   \n",
       "4  70.646  ...  24.944 -2.291  42.875  0.022 -253.151  210.330  35.594 -0.635   \n",
       "\n",
       "     f651    class  \n",
       "0  17.036  neutral  \n",
       "1  19.824  neutral  \n",
       "2  18.527  neutral  \n",
       "3  10.296  neutral  \n",
       "4  28.814     calm  \n",
       "\n",
       "[5 rows x 653 columns]"
      ]
     },
     "execution_count": 3,
     "metadata": {},
     "output_type": "execute_result"
    }
   ],
   "source": [
    "df = pd.read_csv(\"Resources/Ravdess Dataset.csv\")\n",
    "df.head()"
   ]
  },
  {
   "cell_type": "code",
   "execution_count": 4,
   "id": "aa7e8368",
   "metadata": {},
   "outputs": [],
   "source": [
    "#Level of discretization of the continuous data\n",
    "bins = [5 for _ in range(len(df.columns)-1)]"
   ]
  },
  {
   "cell_type": "code",
   "execution_count": 5,
   "id": "e2923ed2",
   "metadata": {
    "scrolled": false
   },
   "outputs": [
    {
     "data": {
      "text/plain": [
       "(array([ 76., 471., 543., 261.,  89.]),\n",
       " array([0. , 0.8, 1.6, 2.4, 3.2, 4. ]),\n",
       " <BarContainer object of 5 artists>)"
      ]
     },
     "execution_count": 5,
     "metadata": {},
     "output_type": "execute_result"
    },
    {
     "data": {
      "image/png": "[encoded data removed]",
      "text/plain": [
       "<Figure size 432x288 with 1 Axes>"
      ]
     },
     "metadata": {
      "needs_background": "light"
     },
     "output_type": "display_data"
    }
   ],
   "source": [
    "plt.hist(pd.cut(df['f0'], bins=bins[0], labels=range(bins[0])), bins = bins[0])"
   ]
  },
  {
   "cell_type": "code",
   "execution_count": 6,
   "id": "1fed1fbf",
   "metadata": {},
   "outputs": [],
   "source": [
    "discreet = pd.DataFrame()"
   ]
  },
  {
   "cell_type": "code",
   "execution_count": 7,
   "id": "d2d38235",
   "metadata": {},
   "outputs": [],
   "source": [
    "for i, column in enumerate(df.drop('class', axis=1).columns):\n",
    "    discreet[column] = pd.cut(df[column], bins=bins[i], labels=range(bins[i]))"
   ]
  },
  {
   "cell_type": "code",
   "execution_count": 9,
   "id": "1facf74a",
   "metadata": {
    "scrolled": false
   },
   "outputs": [
    {
     "data": {
      "text/html": [
       "<div>\n",
       "<style scoped>\n",
       "    .dataframe tbody tr th:only-of-type {\n",
       "        vertical-align: middle;\n",
       "    }\n",
       "\n",
       "    .dataframe tbody tr th {\n",
       "        vertical-align: top;\n",
       "    }\n",
       "\n",
       "    .dataframe thead th {\n",
       "        text-align: right;\n",
       "    }\n",
       "</style>\n",
       "<table border=\"1\" class=\"dataframe\">\n",
       "  <thead>\n",
       "    <tr style=\"text-align: right;\">\n",
       "      <th></th>\n",
       "      <th>f0</th>\n",
       "      <th>f1</th>\n",
       "      <th>f2</th>\n",
       "      <th>f3</th>\n",
       "      <th>f4</th>\n",
       "      <th>f5</th>\n",
       "      <th>f6</th>\n",
       "      <th>f7</th>\n",
       "      <th>f8</th>\n",
       "      <th>f9</th>\n",
       "      <th>...</th>\n",
       "      <th>f643</th>\n",
       "      <th>f644</th>\n",
       "      <th>f645</th>\n",
       "      <th>f646</th>\n",
       "      <th>f647</th>\n",
       "      <th>f648</th>\n",
       "      <th>f649</th>\n",
       "      <th>f650</th>\n",
       "      <th>f651</th>\n",
       "      <th>class</th>\n",
       "    </tr>\n",
       "  </thead>\n",
       "  <tbody>\n",
       "    <tr>\n",
       "      <th>0</th>\n",
       "      <td>1</td>\n",
       "      <td>2</td>\n",
       "      <td>2</td>\n",
       "      <td>2</td>\n",
       "      <td>3</td>\n",
       "      <td>1</td>\n",
       "      <td>2</td>\n",
       "      <td>3</td>\n",
       "      <td>2</td>\n",
       "      <td>3</td>\n",
       "      <td>...</td>\n",
       "      <td>0</td>\n",
       "      <td>1</td>\n",
       "      <td>1</td>\n",
       "      <td>0</td>\n",
       "      <td>4</td>\n",
       "      <td>0</td>\n",
       "      <td>0</td>\n",
       "      <td>1</td>\n",
       "      <td>0</td>\n",
       "      <td>neutral</td>\n",
       "    </tr>\n",
       "    <tr>\n",
       "      <th>1</th>\n",
       "      <td>2</td>\n",
       "      <td>2</td>\n",
       "      <td>2</td>\n",
       "      <td>2</td>\n",
       "      <td>3</td>\n",
       "      <td>0</td>\n",
       "      <td>2</td>\n",
       "      <td>2</td>\n",
       "      <td>2</td>\n",
       "      <td>3</td>\n",
       "      <td>...</td>\n",
       "      <td>0</td>\n",
       "      <td>1</td>\n",
       "      <td>0</td>\n",
       "      <td>0</td>\n",
       "      <td>4</td>\n",
       "      <td>0</td>\n",
       "      <td>0</td>\n",
       "      <td>0</td>\n",
       "      <td>1</td>\n",
       "      <td>neutral</td>\n",
       "    </tr>\n",
       "    <tr>\n",
       "      <th>2</th>\n",
       "      <td>1</td>\n",
       "      <td>2</td>\n",
       "      <td>1</td>\n",
       "      <td>2</td>\n",
       "      <td>3</td>\n",
       "      <td>1</td>\n",
       "      <td>2</td>\n",
       "      <td>2</td>\n",
       "      <td>2</td>\n",
       "      <td>3</td>\n",
       "      <td>...</td>\n",
       "      <td>0</td>\n",
       "      <td>1</td>\n",
       "      <td>1</td>\n",
       "      <td>0</td>\n",
       "      <td>3</td>\n",
       "      <td>1</td>\n",
       "      <td>0</td>\n",
       "      <td>1</td>\n",
       "      <td>0</td>\n",
       "      <td>neutral</td>\n",
       "    </tr>\n",
       "    <tr>\n",
       "      <th>3</th>\n",
       "      <td>1</td>\n",
       "      <td>2</td>\n",
       "      <td>2</td>\n",
       "      <td>3</td>\n",
       "      <td>3</td>\n",
       "      <td>1</td>\n",
       "      <td>2</td>\n",
       "      <td>2</td>\n",
       "      <td>2</td>\n",
       "      <td>3</td>\n",
       "      <td>...</td>\n",
       "      <td>0</td>\n",
       "      <td>2</td>\n",
       "      <td>0</td>\n",
       "      <td>0</td>\n",
       "      <td>4</td>\n",
       "      <td>0</td>\n",
       "      <td>0</td>\n",
       "      <td>0</td>\n",
       "      <td>0</td>\n",
       "      <td>neutral</td>\n",
       "    </tr>\n",
       "    <tr>\n",
       "      <th>4</th>\n",
       "      <td>1</td>\n",
       "      <td>1</td>\n",
       "      <td>1</td>\n",
       "      <td>2</td>\n",
       "      <td>3</td>\n",
       "      <td>0</td>\n",
       "      <td>2</td>\n",
       "      <td>2</td>\n",
       "      <td>3</td>\n",
       "      <td>3</td>\n",
       "      <td>...</td>\n",
       "      <td>1</td>\n",
       "      <td>1</td>\n",
       "      <td>1</td>\n",
       "      <td>0</td>\n",
       "      <td>2</td>\n",
       "      <td>1</td>\n",
       "      <td>1</td>\n",
       "      <td>1</td>\n",
       "      <td>1</td>\n",
       "      <td>calm</td>\n",
       "    </tr>\n",
       "  </tbody>\n",
       "</table>\n",
       "<p>5 rows × 653 columns</p>\n",
       "</div>"
      ],
      "text/plain": [
       "  f0 f1 f2 f3 f4 f5 f6 f7 f8 f9  ... f643 f644 f645 f646 f647 f648 f649 f650  \\\n",
       "0  1  2  2  2  3  1  2  3  2  3  ...    0    1    1    0    4    0    0    1   \n",
       "1  2  2  2  2  3  0  2  2  2  3  ...    0    1    0    0    4    0    0    0   \n",
       "2  1  2  1  2  3  1  2  2  2  3  ...    0    1    1    0    3    1    0    1   \n",
       "3  1  2  2  3  3  1  2  2  2  3  ...    0    2    0    0    4    0    0    0   \n",
       "4  1  1  1  2  3  0  2  2  3  3  ...    1    1    1    0    2    1    1    1   \n",
       "\n",
       "  f651    class  \n",
       "0    0  neutral  \n",
       "1    1  neutral  \n",
       "2    0  neutral  \n",
       "3    0  neutral  \n",
       "4    1     calm  \n",
       "\n",
       "[5 rows x 653 columns]"
      ]
     },
     "execution_count": 9,
     "metadata": {},
     "output_type": "execute_result"
    }
   ],
   "source": [
    "discreet['class'] = df['class']\n",
    "discreet.head()"
   ]
  },
  {
   "cell_type": "code",
   "execution_count": 10,
   "id": "3a663c5b",
   "metadata": {},
   "outputs": [
    {
     "data": {
      "text/plain": [
       "array(['neutral', 'calm', 'happy', 'sad', 'angry', 'fearful', 'disgust',\n",
       "       'surprised'], dtype=object)"
      ]
     },
     "execution_count": 10,
     "metadata": {},
     "output_type": "execute_result"
    }
   ],
   "source": [
    "emotions = discreet['class'].unique()\n",
    "emotions"
   ]
  },
  {
   "cell_type": "code",
   "execution_count": 11,
   "id": "c6019853",
   "metadata": {},
   "outputs": [
    {
     "data": {
      "text/plain": [
       "(360, 1080, 1440)"
      ]
     },
     "execution_count": 11,
     "metadata": {},
     "output_type": "execute_result"
    }
   ],
   "source": [
    "train, test = np.split(discreet.sample(frac=1), [int(0.75*len(discreet))])\n",
    "train_len = len(train)\n",
    "test_len = len(test)\n",
    "total_len = train_len + test_len\n",
    "test_len, train_len, total_len"
   ]
  },
  {
   "cell_type": "markdown",
   "id": "ffaa6528",
   "metadata": {},
   "source": [
    "# Entropy values\n",
    "H will be a matrix of size (bins x features). Computed in a vectorized way to save time (This would take like 10 mins if it was in a for loop, now it takes 10s). <br>\n",
    "Ok fine I'm looping through the 6 emotions so techhhhnically it's not fully vectorized. Anyway we're computing H only once so I took lite"
   ]
  },
  {
   "cell_type": "code",
   "execution_count": 12,
   "id": "a51c135f",
   "metadata": {},
   "outputs": [],
   "source": [
    "H = np.zeros((bins[0], len(train.columns)-1, len(emotions)))"
   ]
  },
  {
   "cell_type": "code",
   "execution_count": 17,
   "id": "8559fb9b",
   "metadata": {},
   "outputs": [],
   "source": [
    "# The most compute intensive step\n",
    "for e, emotion in enumerate(emotions):\n",
    "            H[:, :, e] = train.loc[train['class']==emotion].drop('class', axis=1).apply(pd.Series.value_counts).to_numpy()\n",
    "#H"
   ]
  },
  {
   "cell_type": "code",
   "execution_count": 18,
   "id": "3e9caf56",
   "metadata": {
    "scrolled": true
   },
   "outputs": [],
   "source": [
    "sums = np.sum(H, axis=2)\n",
    "#sums"
   ]
  },
  {
   "cell_type": "code",
   "execution_count": 19,
   "id": "49253903",
   "metadata": {
    "scrolled": true
   },
   "outputs": [],
   "source": [
    "repeated_sums = np.repeat(sums[:, :, np.newaxis], H.shape[2], axis=2)\n",
    "#repeated_sums[:, :, 1]"
   ]
  },
  {
   "cell_type": "code",
   "execution_count": 20,
   "id": "b2f2c1e1",
   "metadata": {},
   "outputs": [],
   "source": [
    "P = np.divide(H, repeated_sums, out=np.zeros_like(H), where=repeated_sums!=0)"
   ]
  },
  {
   "cell_type": "code",
   "execution_count": 21,
   "id": "56a19111",
   "metadata": {},
   "outputs": [],
   "source": [
    "logP = np.log2(P, out=np.zeros_like(P), where=P>0)\n",
    "#logP"
   ]
  },
  {
   "cell_type": "code",
   "execution_count": 22,
   "id": "4b11021c",
   "metadata": {},
   "outputs": [],
   "source": [
    "H = -np.sum(np.multiply(P, logP), axis=2)\n",
    "#H"
   ]
  },
  {
   "cell_type": "code",
   "execution_count": 23,
   "id": "c9bf303b",
   "metadata": {},
   "outputs": [],
   "source": [
    "class Rule:\n",
    "    def __init__(self):\n",
    "        self.terms = {}\n",
    "        self.emotion = 0\n",
    "    \n",
    "    def match(instance):\n",
    "        for key, value in instance.items():\n",
    "            if key in self.terms and self.terms[key] != value:\n",
    "                return False\n",
    "        return True"
   ]
  },
  {
   "cell_type": "code",
   "execution_count": null,
   "id": "fc8735ea",
   "metadata": {},
   "outputs": [],
   "source": []
  }
 ],
 "metadata": {
  "kernelspec": {
   "display_name": "Python 3 (ipykernel)",
   "language": "python",
   "name": "python3"
  },
  "language_info": {
   "codemirror_mode": {
    "name": "ipython",
    "version": 3
   },
   "file_extension": ".py",
   "mimetype": "text/x-python",
   "name": "python",
   "nbconvert_exporter": "python",
   "pygments_lexer": "ipython3",
   "version": "3.7.9"
  }
 },
 "nbformat": 4,
 "nbformat_minor": 5
}
